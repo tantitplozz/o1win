{
  "cells": [
    {
      "cell_type": "markdown",
      "metadata": {},
      "source": [
        "# ยินดีต้อนรับสู่ AI Notebook\n",
        "Notebook นี้ถูกสร้างขึ้นสำหรับการทำงานกับเครื่องมือ AI ขั้นสูง"
      ]
    },
    {
      "cell_type": "markdown",
      "metadata": {},
      "source": [
        "## ทดสอบการใช้งาน LangChain\n",
        "ตัวอย่างการใช้งาน LangChain กับ OpenAI API"
      ]
    },
    {
      "cell_type": "code",
      "execution_count": null,
      "metadata": {},
      "source": [
        "# ตัวอย่างการใช้งาน LangChain\n",
        "# ตั้งค่า API key ก่อนใช้งาน\n",
        "import os\n",
        "# os.environ[\"OPENAI_API_KEY\"] = \"your-api-key-here\"\n",
        "\n",
        "from langchain.llms import OpenAI\n",
        "from langchain.prompts import PromptTemplate\n",
        "\n",
        "# สร้าง prompt template\n",
        "prompt = PromptTemplate(\n",
        "    input_variables=[\"product\"],\n",
        "    template=\"คุณคิดว่าควรตั้งชื่ออะไรให้กับ {product}? ให้ 5 ชื่อพร้อมเหตุผล\",\n",
        ")\n",
        "\n",
        "# ตัวอย่างการใช้งาน (ต้องตั้งค่า API key ก่อน)\n",
        "# llm = OpenAI(temperature=0.7)\n",
        "# print(llm(prompt.format(product=\"แอปพลิเคชันสอนทำอาหารไทย\")))"
      ],
      "outputs": []
    },
    {
      "cell_type": "markdown",
      "metadata": {},
      "source": [
        "## ทดสอบการใช้งาน Hugging Face\n",
        "ตัวอย่างการใช้งาน Hugging Face Transformers"
      ]
    },
    {
      "cell_type": "code",
      "execution_count": null,
      "metadata": {},
      "source": [
        "# ตัวอย่างการใช้งาน Hugging Face\n",
        "from transformers import pipeline\n",
        "\n",
        "# สร้าง pipeline สำหรับวิเคราะห์ความรู้สึก\n",
        "sentiment_analyzer = pipeline(\"sentiment-analysis\")\n",
        "\n",
        "# ทดสอบวิเคราะห์ความรู้สึกของข้อความ\n",
        "texts = [\"I love this product!\", \"This was a terrible experience.\"]\n",
        "for text in texts:\n",
        "    result = sentiment_analyzer(text)\n",
        "    print(f\"Text: {text}\")\n",
        "    print(f\"Sentiment: {result[0]['label']}, Score: {result[0]['score']:.4f}\")"
      ],
      "outputs": []
    }
  ],
  "metadata": {
    "kernelspec": {
      "display_name": "Python 3",
      "language": "python",
      "name": "python3"
    },
    "language_info": {
      "codemirror_mode": {
        "name": "ipython",
        "version": 3
      },
      "file_extension": ".py",
      "mimetype": "text/x-python",
      "name": "python",
      "nbconvert_exporter": "python",
      "pygments_lexer": "ipython3",
      "version": "3.8.10"
    }
  },
  "nbformat": 4,
  "nbformat_minor": 4
}